{
 "cells": [
  {
   "cell_type": "markdown",
   "id": "37e19450",
   "metadata": {},
   "source": [
    "# Azure Faceshield CLassifier API call"
   ]
  },
  {
   "cell_type": "code",
   "execution_count": 1,
   "id": "d3cca8bf",
   "metadata": {},
   "outputs": [],
   "source": [
    "#pip install azure-cognitiveservices-vision-customvision"
   ]
  },
  {
   "cell_type": "markdown",
   "id": "390050ac",
   "metadata": {},
   "source": [
    "## Import Dependencies"
   ]
  },
  {
   "cell_type": "code",
   "execution_count": 2,
   "id": "55dfa3e8",
   "metadata": {},
   "outputs": [],
   "source": [
    "from azure.cognitiveservices.vision.customvision.training import CustomVisionTrainingClient\n",
    "from azure.cognitiveservices.vision.customvision.prediction import CustomVisionPredictionClient\n",
    "from azure.cognitiveservices.vision.customvision.training.models import ImageFileCreateBatch, ImageFileCreateEntry, Region\n",
    "from msrest.authentication import ApiKeyCredentials\n",
    "import os, time, uuid"
   ]
  },
  {
   "cell_type": "markdown",
   "id": "2122f719",
   "metadata": {},
   "source": [
    "## Setup connections"
   ]
  },
  {
   "cell_type": "code",
   "execution_count": 3,
   "id": "31fce5ba",
   "metadata": {},
   "outputs": [],
   "source": [
    "# Replace with valid values\n",
    "ENDPOINT = \"https://southcentralus.api.cognitive.microsoft.com/\"\n",
    "#training_key = \"PASTE_YOUR_CUSTOM_VISION_TRAINING_SUBSCRIPTION_KEY_HERE\"\n",
    "prediction_key = \"98bfb4d27aa1431fb0f157b7c278e498\"\n",
    "prediction_resource_id = \"/subscriptions/2d93638d-d187-4bef-bcbe-6a84bf5c22f6/resourceGroups/CustomVision_FaceShield/providers/Microsoft.CognitiveServices/accounts/CustomVision_FaceShield\""
   ]
  },
  {
   "cell_type": "code",
   "execution_count": 10,
   "id": "3065df0c",
   "metadata": {},
   "outputs": [],
   "source": [
    "#credentials = ApiKeyCredentials(in_headers={\"Training-key\": training_key})\n",
    "#trainer = CustomVisionTrainingClient(ENDPOINT, credentials)\n",
    "prediction_credentials = ApiKeyCredentials(in_headers={\"Prediction-key\": prediction_key})\n",
    "predictor = CustomVisionPredictionClient(ENDPOINT, prediction_credentials)\n"
   ]
  },
  {
   "cell_type": "code",
   "execution_count": 14,
   "id": "0492d6cf",
   "metadata": {},
   "outputs": [],
   "source": [
    "projectid = '0d0ad261-3d75-44f5-a5fb-901cfe7f9a12'\n",
    "publish_iteration_name = \"Iteration3\""
   ]
  },
  {
   "cell_type": "markdown",
   "id": "4f1b3b13",
   "metadata": {},
   "source": [
    "## Do a prediction"
   ]
  },
  {
   "cell_type": "code",
   "execution_count": 15,
   "id": "cb8b3257",
   "metadata": {},
   "outputs": [
    {
     "name": "stdout",
     "output_type": "stream",
     "text": [
      "\twith faceshield: 99.12%\n",
      "\twithout faceshield: 0.88%\n"
     ]
    }
   ],
   "source": [
    "# Now there is a trained endpoint that can be used to make a prediction\n",
    "prediction_credentials = ApiKeyCredentials(in_headers={\"Prediction-key\": prediction_key})\n",
    "predictor = CustomVisionPredictionClient(ENDPOINT, prediction_credentials)\n",
    "image_dir = 'C:/Users/Mac/Desktop/faceshield'\n",
    "image_name = 'pic1141.jpg'\n",
    "with open(os.path.join (image_dir, image_name), \"rb\") as image_contents:\n",
    "    results = predictor.classify_image(\n",
    "        projectid, publish_iteration_name, image_contents.read())\n",
    "\n",
    "    # Display the results.\n",
    "    for prediction in results.predictions:\n",
    "        print(\"\\t\" + prediction.tag_name +\n",
    "              \": {0:.2f}%\".format(prediction.probability * 100))"
   ]
  }
 ],
 "metadata": {
  "kernelspec": {
   "display_name": "Python 3",
   "language": "python",
   "name": "python3"
  },
  "language_info": {
   "codemirror_mode": {
    "name": "ipython",
    "version": 3
   },
   "file_extension": ".py",
   "mimetype": "text/x-python",
   "name": "python",
   "nbconvert_exporter": "python",
   "pygments_lexer": "ipython3",
   "version": "3.8.8"
  }
 },
 "nbformat": 4,
 "nbformat_minor": 5
}
